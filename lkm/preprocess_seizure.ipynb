{
 "cells": [
  {
   "cell_type": "code",
   "execution_count": 2,
   "metadata": {
    "collapsed": true
   },
   "outputs": [],
   "source": [
    "import pandas as pd\n",
    "import numpy as np\n",
    "import scipy.io as sio\n",
    "from scipy.stats import zscore"
   ]
  },
  {
   "cell_type": "code",
   "execution_count": 3,
   "metadata": {},
   "outputs": [],
   "source": [
    "df = pd.read_csv(\"./data/seizure/data.csv\", header=None, skiprows=1)"
   ]
  },
  {
   "cell_type": "code",
   "execution_count": 4,
   "metadata": {
    "collapsed": false
   },
   "outputs": [],
   "source": [
    "num_exp = 3\n",
    "for exp in range(num_exp):\n",
    "    num_ts_per_activity=10\n",
    "    collected = np.zeros((num_ts_per_activity*5,178))\n",
    "    for i in range(5):\n",
    "        activity_no = i+1  # base-index 1\n",
    "        activity_data = df[df[179]==activity_no]\n",
    "        activity_data = activity_data.drop([0,179], axis=1)\n",
    "        collected[i*num_ts_per_activity: (i+1)*num_ts_per_activity, :] = activity_data.sample(num_ts_per_activity).values\n",
    "    \n",
    "    data = {}\n",
    "    collected = zscore(collected, axis=1)\n",
    "    data['X'] = collected.astype(np.float64)\n",
    "    data['t'] = np.arange(1,179, step=1, dtype=np.float64)[:,None]\n",
    "    \n",
    "    sio.savemat('./data/seizure/get_50_exp_{}'.format(exp), data)"
   ]
  },
  {
   "cell_type": "code",
   "execution_count": null,
   "metadata": {},
   "outputs": [],
   "source": [
    ""
   ]
  }
 ],
 "metadata": {
  "kernelspec": {
   "display_name": "Python 2",
   "language": "python",
   "name": "python2"
  },
  "language_info": {
   "codemirror_mode": {
    "name": "ipython",
    "version": 2.0
   },
   "file_extension": ".py",
   "mimetype": "text/x-python",
   "name": "python",
   "nbconvert_exporter": "python",
   "pygments_lexer": "ipython2",
   "version": "2.7.6"
  }
 },
 "nbformat": 4,
 "nbformat_minor": 0
}